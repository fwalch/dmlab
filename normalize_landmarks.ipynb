{
 "metadata": {
  "name": "",
  "signature": "sha256:05ef8487454106cf83b200bef50f23ba88cc5977b10d89b764fff8c9863a86da"
 },
 "nbformat": 3,
 "nbformat_minor": 0,
 "worksheets": [
  {
   "cells": [
    {
     "cell_type": "code",
     "collapsed": false,
     "input": [
      "%matplotlib inline\n",
      "import pandas as pd\n",
      "import numpy as np\n",
      "from sklearn import preprocessing as skp\n",
      "from sklearn import cluster as skc\n",
      "import matplotlib.pyplot as plt\n",
      "\n",
      "plt.rcParams['figure.figsize'] = (12.0, 8.0)\n",
      "\n",
      "peak_landmarks = pd.read_json('data/landmarks.json').dropna() # remove landmarks from non-labelled (no emotion) image sequences\n",
      "peak_landmarks = peak_landmarks.set_index(['subject', 'image_sequence', 'emotion']).sort_index()"
     ],
     "language": "python",
     "metadata": {},
     "outputs": []
    },
    {
     "cell_type": "heading",
     "level": 2,
     "metadata": {},
     "source": [
      "Standardization"
     ]
    },
    {
     "cell_type": "heading",
     "level": 3,
     "metadata": {},
     "source": [
      "a) Min/max"
     ]
    },
    {
     "cell_type": "code",
     "collapsed": false,
     "input": [
      "#for index in peak_landmarks.index:\n",
      "#    landmarks = peak_landmarks.loc[index][['x', 'y']]\n",
      "#    landmarks_mean = landmarks.mean()\n",
      "#    landmarks_range = landmarks.max()-landmarks.min()\n",
      "    \n",
      "#    landmarks_norm = (landmarks - landmarks_mean)/landmarks_range\n",
      "#    peak_landmarks.loc[index][['x', 'y']] = landmarks_norm\n",
      "\n",
      "\n",
      "normalized_landmarks = []\n",
      "emotions = []\n",
      "\n",
      "for index in peak_landmarks.index:\n",
      "    df = peak_landmarks.loc[index]\n",
      "    landmarks = df[['x', 'y']].values\n",
      "    scaler = skp.MinMaxScaler()\n",
      "    normalized_landmarks.append(scaler.fit_transform(landmarks))\n",
      "    \n",
      "    emotion = int(index[2])\n",
      "    emotions.append(emotion)"
     ],
     "language": "python",
     "metadata": {},
     "outputs": []
    },
    {
     "cell_type": "heading",
     "level": 3,
     "metadata": {},
     "source": [
      "b) Gaussian"
     ]
    },
    {
     "cell_type": "code",
     "collapsed": false,
     "input": [
      "normalized_landmarks = []\n",
      "emotions = []\n",
      "\n",
      "for index in peak_landmarks.index:\n",
      "    df = peak_landmarks.loc[index]\n",
      "    landmarks = df[['x', 'y']].values\n",
      "    normalized_landmarks.append(skp.scale(landmarks)) # Scale to zero mean, unit variance\n",
      "    \n",
      "    emotion = int(index[2])\n",
      "    emotions.append(emotion)"
     ],
     "language": "python",
     "metadata": {},
     "outputs": []
    },
    {
     "cell_type": "heading",
     "level": 2,
     "metadata": {},
     "source": [
      "Feature extraction"
     ]
    },
    {
     "cell_type": "heading",
     "level": 3,
     "metadata": {},
     "source": [
      "a) Use distance of each landmark from center as features"
     ]
    },
    {
     "cell_type": "code",
     "collapsed": false,
     "input": [
      "X = np.array([[np.linalg.norm(landmark) for landmark in grouped_landmarks] for grouped_landmarks in normalized_landmarks])\n",
      "assert X.shape[1] == 68 # We have 68 landmarks, so we expect 68 features"
     ],
     "language": "python",
     "metadata": {},
     "outputs": []
    },
    {
     "cell_type": "heading",
     "level": 3,
     "metadata": {},
     "source": [
      "b) Use x/y coordinates directly as features"
     ]
    },
    {
     "cell_type": "code",
     "collapsed": false,
     "input": [
      "X = np.array([l.reshape(1, -1) for l in normalized_landmarks]).reshape((-1, 2*68))\n",
      "assert X.shape[1] == 2*68 # x/y for each landmark"
     ],
     "language": "python",
     "metadata": {},
     "outputs": []
    },
    {
     "cell_type": "heading",
     "level": 3,
     "metadata": {},
     "source": [
      "Assign target labels"
     ]
    },
    {
     "cell_type": "code",
     "collapsed": false,
     "input": [
      "Y = emotions\n",
      "assert len(X) == len(Y)\n",
      "\n",
      "EMOTIONS = {\n",
      "  0: 'neutral',\n",
      "  1: 'anger',\n",
      "  2: 'contempt',\n",
      "  3: 'disgust',\n",
      "  4: 'fear',\n",
      "  5: 'happiness',\n",
      "  6: 'sadness',\n",
      "  7: 'surprise'\n",
      "}\n",
      "\n",
      "labels = list(EMOTIONS[e] for e in emotions)"
     ],
     "language": "python",
     "metadata": {},
     "outputs": []
    },
    {
     "cell_type": "heading",
     "level": 2,
     "metadata": {},
     "source": [
      "Clustering"
     ]
    },
    {
     "cell_type": "code",
     "collapsed": false,
     "input": [
      "from sklearn import metrics\n",
      "\n",
      "km = skc.KMeans(n_clusters=8)\n",
      "km.fit(X)\n",
      "\n",
      "print(\"Homogeneity: %0.3f\" % metrics.homogeneity_score(Y, km.labels_))\n",
      "print(\"Completeness: %0.3f\" % metrics.completeness_score(Y, km.labels_))"
     ],
     "language": "python",
     "metadata": {},
     "outputs": []
    }
   ],
   "metadata": {}
  }
 ]
}