{
 "metadata": {
  "name": "",
  "signature": "sha256:a0081b8951f969d88b7c58ffb33b0aec7370d85922ae9a6daeec937268ac9441"
 },
 "nbformat": 3,
 "nbformat_minor": 0,
 "worksheets": [
  {
   "cells": [
    {
     "cell_type": "heading",
     "level": 1,
     "metadata": {},
     "source": [
      "Graphs"
     ]
    },
    {
     "cell_type": "code",
     "collapsed": false,
     "input": [
      "%matplotlib inline\n",
      "\n",
      "import matplotlib.pyplot as plt\n",
      "import pandas as pd\n",
      "\n",
      "plt.rcParams['figure.figsize'] = (12.0, 8.0)\n",
      "\n",
      "facs = pd.read_json('data/facs.json')"
     ],
     "language": "python",
     "metadata": {},
     "outputs": []
    },
    {
     "cell_type": "heading",
     "level": 2,
     "metadata": {},
     "source": [
      "Histogram of AUs"
     ]
    },
    {
     "cell_type": "code",
     "collapsed": false,
     "input": [
      "facs.hist(column='au', bins=list(range(facs['au'].min(), facs['au'].max()+1)))"
     ],
     "language": "python",
     "metadata": {},
     "outputs": []
    },
    {
     "cell_type": "markdown",
     "metadata": {},
     "source": [
      "For meanings of the AU values, see [Wikipedia](https://en.wikipedia.org/wiki/Facial_Action_Coding_System#List_of_Action_Units_and_Action_Descriptors_.28with_underlying_facial_muscles.29)."
     ]
    },
    {
     "cell_type": "heading",
     "level": 2,
     "metadata": {},
     "source": [
      "Histogram of AU intensities"
     ]
    },
    {
     "cell_type": "code",
     "collapsed": false,
     "input": [
      "facs.hist(column='intensity', bins=list(range(facs['intensity'].min(), facs['intensity'].max()+1)))"
     ],
     "language": "python",
     "metadata": {},
     "outputs": []
    },
    {
     "cell_type": "heading",
     "level": 2,
     "metadata": {},
     "source": [
      "Landmark positions for happiness vs other emotions"
     ]
    },
    {
     "cell_type": "code",
     "collapsed": false,
     "input": [
      "landmarks = pd.read_json('data/landmarks.json')\n",
      "emotions = pd.read_json('data/emotions.json').dropna()\n",
      "by_landmark = pd.merge(landmarks, emotions, on=['subject', 'image_sequence'])\n",
      "by_landmark = by_landmark.groupby('number')\n",
      "colors = {\n",
      "#    0: 'w',\n",
      "#    1: 'g',\n",
      "#    2: 'r',\n",
      "#    3: 'c',\n",
      "#    4: 'm',\n",
      "    5: 'y', # 5 is happiness, just color that\n",
      "#    6: 'k',\n",
      "#    7: 'b'\n",
      "}\n",
      "\n",
      "plt.xlabel('X pixel position of landmark.')\n",
      "plt.ylabel('Y pixel position of landmark.')\n",
      "\n",
      "for landmark_number, landmark in by_landmark:\n",
      "    plt.suptitle('Landmark {0}'.format(landmark_number))\n",
      "    plt.scatter(landmark['x'], landmark['y'], alpha=0.8, s=120, lw=0,\n",
      "                       color=[(colors[emotion] if emotion in colors else '0.1') for emotion in landmark['emotion']])\n",
      "    \n",
      "    plt.grid(True)\n",
      "    plt.show()"
     ],
     "language": "python",
     "metadata": {},
     "outputs": []
    }
   ],
   "metadata": {}
  }
 ]
}