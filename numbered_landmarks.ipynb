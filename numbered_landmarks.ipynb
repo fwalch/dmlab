{
 "metadata": {
  "name": "",
  "signature": "sha256:7ad35c1b1b6b8437135eef31b4f03d9fca0fb7fb439a36c09420d318e79e5a2a"
 },
 "nbformat": 3,
 "nbformat_minor": 0,
 "worksheets": [
  {
   "cells": [
    {
     "cell_type": "code",
     "collapsed": false,
     "input": [
      "%matplotlib inline\n",
      "from parser import Parser\n",
      "import matplotlib.pyplot as plt\n",
      "import numpy as np\n",
      "\n",
      "plt.rcParams['figure.figsize'] = (15.0, 10.0)\n",
      "\n",
      "p = Parser()\n",
      "subject = p.get_subjects()[2]\n",
      "image_sequence = p.get_image_sequences(subject)[0]\n",
      "landmarks = p.get_neutral_landmarks(subject, image_sequence)\n",
      "\n",
      "x = landmarks[::, 0]\n",
      "y = -landmarks[::, 1]\n",
      "plt.scatter(x, y, alpha=0.8, s=70, lw=0)\n",
      "for landmark_number in range(len(landmarks)):\n",
      "    coords = np.array([x[landmark_number], y[landmark_number]])+1.5\n",
      "    plt.annotate(landmark_number, coords)\n",
      "plt.show()"
     ],
     "language": "python",
     "metadata": {},
     "outputs": []
    }
   ],
   "metadata": {}
  }
 ]
}